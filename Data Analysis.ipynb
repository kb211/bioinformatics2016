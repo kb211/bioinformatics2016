{
 "cells": [
  {
   "cell_type": "code",
   "execution_count": 2,
   "metadata": {
    "collapsed": false
   },
   "outputs": [
    {
     "name": "stderr",
     "output_type": "stream",
     "text": [
      "/home/kasper/anaconda2/lib/python2.7/site-packages/matplotlib/font_manager.py:273: UserWarning: Matplotlib is building the font cache using fc-list. This may take a moment.\n",
      "  warnings.warn('Matplotlib is building the font cache using fc-list. This may take a moment.')\n"
     ]
    }
   ],
   "source": [
    "%matplotlib inline\n",
    "\n",
    "import pandas as pd\n",
    "import matplotlib.pyplot as plt\n",
    "import matplotlib\n",
    "import numpy as np\n",
    "matplotlib.style.use('ggplot')"
   ]
  },
  {
   "cell_type": "code",
   "execution_count": 3,
   "metadata": {
    "collapsed": false
   },
   "outputs": [],
   "source": [
    "# Load Data\n",
    "data = pd.read_csv(\"FC_plus_RES_withPredictions.csv\")\n",
    "data = data.drop('Unnamed: 0', 1)\n",
    "data.score_drug_gene_threshold = data.score_drug_gene_threshold.astype('category')\n"
   ]
  },
  {
   "cell_type": "code",
   "execution_count": 33,
   "metadata": {
    "collapsed": false
   },
   "outputs": [
    {
     "data": {
      "text/html": [
       "<div>\n",
       "<table border=\"1\" class=\"dataframe\">\n",
       "  <thead>\n",
       "    <tr style=\"text-align: right;\">\n",
       "      <th></th>\n",
       "      <th>Percent Peptide</th>\n",
       "      <th>Amino Acid Cut position</th>\n",
       "      <th>score_drug_gene_rank</th>\n",
       "      <th>predictions</th>\n",
       "    </tr>\n",
       "  </thead>\n",
       "  <tbody>\n",
       "    <tr>\n",
       "      <th>count</th>\n",
       "      <td>5310.000000</td>\n",
       "      <td>5310.000000</td>\n",
       "      <td>5310.000000</td>\n",
       "      <td>5310.000000</td>\n",
       "    </tr>\n",
       "    <tr>\n",
       "      <th>mean</th>\n",
       "      <td>48.355836</td>\n",
       "      <td>722.085683</td>\n",
       "      <td>0.502886</td>\n",
       "      <td>0.502408</td>\n",
       "    </tr>\n",
       "    <tr>\n",
       "      <th>std</th>\n",
       "      <td>27.800159</td>\n",
       "      <td>690.734986</td>\n",
       "      <td>0.287511</td>\n",
       "      <td>0.144368</td>\n",
       "    </tr>\n",
       "    <tr>\n",
       "      <th>min</th>\n",
       "      <td>0.050000</td>\n",
       "      <td>1.000000</td>\n",
       "      <td>0.001082</td>\n",
       "      <td>-0.016217</td>\n",
       "    </tr>\n",
       "    <tr>\n",
       "      <th>25%</th>\n",
       "      <td>25.270000</td>\n",
       "      <td>186.000000</td>\n",
       "      <td>0.255411</td>\n",
       "      <td>0.417021</td>\n",
       "    </tr>\n",
       "    <tr>\n",
       "      <th>50%</th>\n",
       "      <td>48.225000</td>\n",
       "      <td>435.500000</td>\n",
       "      <td>0.503272</td>\n",
       "      <td>0.519049</td>\n",
       "    </tr>\n",
       "    <tr>\n",
       "      <th>75%</th>\n",
       "      <td>71.765000</td>\n",
       "      <td>1157.000000</td>\n",
       "      <td>0.751082</td>\n",
       "      <td>0.607194</td>\n",
       "    </tr>\n",
       "    <tr>\n",
       "      <th>max</th>\n",
       "      <td>101.000000</td>\n",
       "      <td>2826.000000</td>\n",
       "      <td>1.000000</td>\n",
       "      <td>0.878146</td>\n",
       "    </tr>\n",
       "  </tbody>\n",
       "</table>\n",
       "</div>"
      ],
      "text/plain": [
       "       Percent Peptide  Amino Acid Cut position  score_drug_gene_rank  \\\n",
       "count      5310.000000              5310.000000           5310.000000   \n",
       "mean         48.355836               722.085683              0.502886   \n",
       "std          27.800159               690.734986              0.287511   \n",
       "min           0.050000                 1.000000              0.001082   \n",
       "25%          25.270000               186.000000              0.255411   \n",
       "50%          48.225000               435.500000              0.503272   \n",
       "75%          71.765000              1157.000000              0.751082   \n",
       "max         101.000000              2826.000000              1.000000   \n",
       "\n",
       "       predictions  \n",
       "count  5310.000000  \n",
       "mean      0.502408  \n",
       "std       0.144368  \n",
       "min      -0.016217  \n",
       "25%       0.417021  \n",
       "50%       0.519049  \n",
       "75%       0.607194  \n",
       "max       0.878146  "
      ]
     },
     "execution_count": 33,
     "metadata": {},
     "output_type": "execute_result"
    }
   ],
   "source": [
    "data.describe()"
   ]
  },
  {
   "cell_type": "code",
   "execution_count": 34,
   "metadata": {
    "collapsed": false
   },
   "outputs": [
    {
     "data": {
      "text/html": [
       "<div>\n",
       "<table border=\"1\" class=\"dataframe\">\n",
       "  <thead>\n",
       "    <tr style=\"text-align: right;\">\n",
       "      <th></th>\n",
       "      <th>30mer</th>\n",
       "      <th>Target gene</th>\n",
       "    </tr>\n",
       "  </thead>\n",
       "  <tbody>\n",
       "    <tr>\n",
       "      <th>count</th>\n",
       "      <td>5310</td>\n",
       "      <td>5310</td>\n",
       "    </tr>\n",
       "    <tr>\n",
       "      <th>unique</th>\n",
       "      <td>4379</td>\n",
       "      <td>17</td>\n",
       "    </tr>\n",
       "    <tr>\n",
       "      <th>top</th>\n",
       "      <td>CACTGCAGCCAATCCTGTGACAGACGGACC</td>\n",
       "      <td>MED12</td>\n",
       "    </tr>\n",
       "    <tr>\n",
       "      <th>freq</th>\n",
       "      <td>8</td>\n",
       "      <td>1848</td>\n",
       "    </tr>\n",
       "  </tbody>\n",
       "</table>\n",
       "</div>"
      ],
      "text/plain": [
       "                                 30mer Target gene\n",
       "count                             5310        5310\n",
       "unique                            4379          17\n",
       "top     CACTGCAGCCAATCCTGTGACAGACGGACC       MED12\n",
       "freq                                 8        1848"
      ]
     },
     "execution_count": 34,
     "metadata": {},
     "output_type": "execute_result"
    }
   ],
   "source": [
    "df1 = data.ix[:,0:2]\n",
    "df1.describe()\n",
    "#De 17 unique target genes we expected"
   ]
  },
  {
   "cell_type": "code",
   "execution_count": 35,
   "metadata": {
    "collapsed": false
   },
   "outputs": [
    {
     "data": {
      "text/plain": [
       "<matplotlib.text.Text at 0x7fcf4659c790>"
      ]
     },
     "execution_count": 35,
     "metadata": {},
     "output_type": "execute_result"
    },
    {
     "data": {
      "image/png": "[encoded data removed]",
      "text/plain": [
       "<matplotlib.figure.Figure at 0x7fcf465d6b90>"
      ]
     },
     "metadata": {},
     "output_type": "display_data"
    }
   ],
   "source": [
    "data.score_drug_gene_threshold.hist()\n",
    "plt.title(\"Training label Distribution\")"
   ]
  },
  {
   "cell_type": "code",
   "execution_count": 37,
   "metadata": {
    "collapsed": false
   },
   "outputs": [
    {
     "data": {
      "text/html": [
       "<div>\n",
       "<table border=\"1\" class=\"dataframe\">\n",
       "  <thead>\n",
       "    <tr style=\"text-align: right;\">\n",
       "      <th></th>\n",
       "      <th>30mer</th>\n",
       "      <th>Target gene</th>\n",
       "      <th>Percent Peptide</th>\n",
       "      <th>Amino Acid Cut position</th>\n",
       "      <th>score_drug_gene_rank</th>\n",
       "      <th>score_drug_gene_threshold</th>\n",
       "      <th>drug</th>\n",
       "      <th>predictions</th>\n",
       "    </tr>\n",
       "  </thead>\n",
       "  <tbody>\n",
       "    <tr>\n",
       "      <th>0</th>\n",
       "      <td>CAGAAAAAAAAACACTGCAACAAGAGGGTA</td>\n",
       "      <td>CD5</td>\n",
       "      <td>72.87</td>\n",
       "      <td>360.0</td>\n",
       "      <td>0.083682</td>\n",
       "      <td>0</td>\n",
       "      <td>nodrug</td>\n",
       "      <td>0.544412</td>\n",
       "    </tr>\n",
       "    <tr>\n",
       "      <th>1</th>\n",
       "      <td>TTTTAAAAAACCTACCGTAAACTCGGGTCA</td>\n",
       "      <td>NF1</td>\n",
       "      <td>65.80</td>\n",
       "      <td>1868.0</td>\n",
       "      <td>0.868207</td>\n",
       "      <td>1</td>\n",
       "      <td>PLX_2uM</td>\n",
       "      <td>0.617512</td>\n",
       "    </tr>\n",
       "    <tr>\n",
       "      <th>2</th>\n",
       "      <td>TCAGAAAAAGCAGCGTCAGTGGATTGGCCC</td>\n",
       "      <td>CD5</td>\n",
       "      <td>84.21</td>\n",
       "      <td>416.0</td>\n",
       "      <td>0.184100</td>\n",
       "      <td>0</td>\n",
       "      <td>nodrug</td>\n",
       "      <td>0.476232</td>\n",
       "    </tr>\n",
       "    <tr>\n",
       "      <th>3</th>\n",
       "      <td>AATAAAAAATAGGATTCCCAGCTTTGGAAG</td>\n",
       "      <td>NF1</td>\n",
       "      <td>56.39</td>\n",
       "      <td>1601.0</td>\n",
       "      <td>0.432065</td>\n",
       "      <td>0</td>\n",
       "      <td>PLX_2uM</td>\n",
       "      <td>0.459882</td>\n",
       "    </tr>\n",
       "    <tr>\n",
       "      <th>4</th>\n",
       "      <td>GATGAAAAATATGTAAACAGCATTTGGGAC</td>\n",
       "      <td>CUL3</td>\n",
       "      <td>4.30</td>\n",
       "      <td>33.0</td>\n",
       "      <td>0.149351</td>\n",
       "      <td>0</td>\n",
       "      <td>PLX_2uM</td>\n",
       "      <td>0.290841</td>\n",
       "    </tr>\n",
       "  </tbody>\n",
       "</table>\n",
       "</div>"
      ],
      "text/plain": [
       "                            30mer Target gene  Percent Peptide  \\\n",
       "0  CAGAAAAAAAAACACTGCAACAAGAGGGTA         CD5            72.87   \n",
       "1  TTTTAAAAAACCTACCGTAAACTCGGGTCA         NF1            65.80   \n",
       "2  TCAGAAAAAGCAGCGTCAGTGGATTGGCCC         CD5            84.21   \n",
       "3  AATAAAAAATAGGATTCCCAGCTTTGGAAG         NF1            56.39   \n",
       "4  GATGAAAAATATGTAAACAGCATTTGGGAC        CUL3             4.30   \n",
       "\n",
       "   Amino Acid Cut position  score_drug_gene_rank score_drug_gene_threshold  \\\n",
       "0                    360.0              0.083682                         0   \n",
       "1                   1868.0              0.868207                         1   \n",
       "2                    416.0              0.184100                         0   \n",
       "3                   1601.0              0.432065                         0   \n",
       "4                     33.0              0.149351                         0   \n",
       "\n",
       "      drug  predictions  \n",
       "0   nodrug     0.544412  \n",
       "1  PLX_2uM     0.617512  \n",
       "2   nodrug     0.476232  \n",
       "3  PLX_2uM     0.459882  \n",
       "4  PLX_2uM     0.290841  "
      ]
     },
     "execution_count": 37,
     "metadata": {},
     "output_type": "execute_result"
    }
   ],
   "source": [
    "pd.options.display.max_colwidth = 500\n",
    "data.head()"
   ]
  },
  {
   "cell_type": "code",
   "execution_count": 79,
   "metadata": {
    "collapsed": false
   },
   "outputs": [
    {
     "data": {
      "image/png": "[encoded data removed]",
      "text/plain": [
       "<matplotlib.figure.Figure at 0x7fcf45b26350>"
      ]
     },
     "metadata": {},
     "output_type": "display_data"
    }
   ],
   "source": [
    "frequencies = np.zeros(31)\n",
    "\n",
    "for counts in data['30mer']:\n",
    "    c = 0\n",
    "    g = 0\n",
    "    for letter in counts:\n",
    "        if letter == 'C':\n",
    "            c += 1\n",
    "        if letter == 'G':\n",
    "            g += 1\n",
    "    frequencies[g+c] +=1\n",
    "    \n",
    "labels = range(0,31)\n",
    "\n",
    "pos = np.arange(len(labels))\n",
    "width = 1.0\n",
    "\n",
    "ax = plt.axes()\n",
    "ax.set_xticks(pos + (width / 2))\n",
    "ax.set_xticklabels(labels)\n",
    "ax.set_ylabel('Frequency')\n",
    "ax.set_xlabel('GC counts')\n",
    "ax.set_title('Frequency of GC counts')\n",
    "\n",
    "plt.bar(pos, frequencies, width, color='r')\n",
    "plt.show()"
   ]
  },
  {
   "cell_type": "code",
   "execution_count": 5,
   "metadata": {
    "collapsed": false
   },
   "outputs": [
    {
     "data": {
      "text/html": [
       "<div>\n",
       "<table border=\"1\" class=\"dataframe\">\n",
       "  <thead>\n",
       "    <tr style=\"text-align: right;\">\n",
       "      <th></th>\n",
       "      <th>30mer</th>\n",
       "      <th>Target gene</th>\n",
       "      <th>Percent Peptide</th>\n",
       "      <th>Amino Acid Cut position</th>\n",
       "      <th>score_drug_gene_rank</th>\n",
       "      <th>score_drug_gene_threshold</th>\n",
       "      <th>drug</th>\n",
       "      <th>predictions</th>\n",
       "    </tr>\n",
       "  </thead>\n",
       "  <tbody>\n",
       "    <tr>\n",
       "      <th>3025</th>\n",
       "      <td>CACTGCAGCCAATCCTGTGACAGACGGACC</td>\n",
       "      <td>CD43</td>\n",
       "      <td>33.67</td>\n",
       "      <td>133.0</td>\n",
       "      <td>1.0</td>\n",
       "      <td>1</td>\n",
       "      <td>nodrug</td>\n",
       "      <td>0.629544</td>\n",
       "    </tr>\n",
       "    <tr>\n",
       "      <th>3026</th>\n",
       "      <td>CACTGCAGCCAATCCTGTGACAGACGGACC</td>\n",
       "      <td>CD43</td>\n",
       "      <td>35.95</td>\n",
       "      <td>142.0</td>\n",
       "      <td>1.0</td>\n",
       "      <td>1</td>\n",
       "      <td>nodrug</td>\n",
       "      <td>0.629544</td>\n",
       "    </tr>\n",
       "    <tr>\n",
       "      <th>3027</th>\n",
       "      <td>CACTGCAGCCAATCCTGTGACAGACGGACC</td>\n",
       "      <td>CD43</td>\n",
       "      <td>33.67</td>\n",
       "      <td>133.0</td>\n",
       "      <td>1.0</td>\n",
       "      <td>1</td>\n",
       "      <td>nodrug</td>\n",
       "      <td>0.629544</td>\n",
       "    </tr>\n",
       "    <tr>\n",
       "      <th>3028</th>\n",
       "      <td>CACTGCAGCCAATCCTGTGACAGACGGACC</td>\n",
       "      <td>CD43</td>\n",
       "      <td>35.95</td>\n",
       "      <td>142.0</td>\n",
       "      <td>1.0</td>\n",
       "      <td>1</td>\n",
       "      <td>nodrug</td>\n",
       "      <td>0.629544</td>\n",
       "    </tr>\n",
       "    <tr>\n",
       "      <th>3029</th>\n",
       "      <td>CACTGCAGCCAATCCTGTGACAGACGGACC</td>\n",
       "      <td>CD43</td>\n",
       "      <td>33.67</td>\n",
       "      <td>133.0</td>\n",
       "      <td>1.0</td>\n",
       "      <td>1</td>\n",
       "      <td>nodrug</td>\n",
       "      <td>0.629544</td>\n",
       "    </tr>\n",
       "    <tr>\n",
       "      <th>3030</th>\n",
       "      <td>CACTGCAGCCAATCCTGTGACAGACGGACC</td>\n",
       "      <td>CD43</td>\n",
       "      <td>35.95</td>\n",
       "      <td>142.0</td>\n",
       "      <td>1.0</td>\n",
       "      <td>1</td>\n",
       "      <td>nodrug</td>\n",
       "      <td>0.629544</td>\n",
       "    </tr>\n",
       "    <tr>\n",
       "      <th>3031</th>\n",
       "      <td>CACTGCAGCCAATCCTGTGACAGACGGACC</td>\n",
       "      <td>CD43</td>\n",
       "      <td>33.67</td>\n",
       "      <td>133.0</td>\n",
       "      <td>1.0</td>\n",
       "      <td>1</td>\n",
       "      <td>nodrug</td>\n",
       "      <td>0.629544</td>\n",
       "    </tr>\n",
       "    <tr>\n",
       "      <th>3032</th>\n",
       "      <td>CACTGCAGCCAATCCTGTGACAGACGGACC</td>\n",
       "      <td>CD43</td>\n",
       "      <td>35.95</td>\n",
       "      <td>142.0</td>\n",
       "      <td>1.0</td>\n",
       "      <td>1</td>\n",
       "      <td>nodrug</td>\n",
       "      <td>0.629544</td>\n",
       "    </tr>\n",
       "  </tbody>\n",
       "</table>\n",
       "</div>"
      ],
      "text/plain": [
       "                               30mer Target gene  Percent Peptide  \\\n",
       "3025  CACTGCAGCCAATCCTGTGACAGACGGACC        CD43            33.67   \n",
       "3026  CACTGCAGCCAATCCTGTGACAGACGGACC        CD43            35.95   \n",
       "3027  CACTGCAGCCAATCCTGTGACAGACGGACC        CD43            33.67   \n",
       "3028  CACTGCAGCCAATCCTGTGACAGACGGACC        CD43            35.95   \n",
       "3029  CACTGCAGCCAATCCTGTGACAGACGGACC        CD43            33.67   \n",
       "3030  CACTGCAGCCAATCCTGTGACAGACGGACC        CD43            35.95   \n",
       "3031  CACTGCAGCCAATCCTGTGACAGACGGACC        CD43            33.67   \n",
       "3032  CACTGCAGCCAATCCTGTGACAGACGGACC        CD43            35.95   \n",
       "\n",
       "      Amino Acid Cut position  score_drug_gene_rank score_drug_gene_threshold  \\\n",
       "3025                    133.0                   1.0                         1   \n",
       "3026                    142.0                   1.0                         1   \n",
       "3027                    133.0                   1.0                         1   \n",
       "3028                    142.0                   1.0                         1   \n",
       "3029                    133.0                   1.0                         1   \n",
       "3030                    142.0                   1.0                         1   \n",
       "3031                    133.0                   1.0                         1   \n",
       "3032                    142.0                   1.0                         1   \n",
       "\n",
       "        drug  predictions  \n",
       "3025  nodrug     0.629544  \n",
       "3026  nodrug     0.629544  \n",
       "3027  nodrug     0.629544  \n",
       "3028  nodrug     0.629544  \n",
       "3029  nodrug     0.629544  \n",
       "3030  nodrug     0.629544  \n",
       "3031  nodrug     0.629544  \n",
       "3032  nodrug     0.629544  "
      ]
     },
     "execution_count": 5,
     "metadata": {},
     "output_type": "execute_result"
    }
   ],
   "source": [
    "# print most frequently occurring 30mer\n",
    "# This 30mer corresponds to two cut positions.\n",
    "# And there are 4 duplicates for each cut position! \n",
    "data.loc[data['30mer'] == 'CACTGCAGCCAATCCTGTGACAGACGGACC']"
   ]
  },
  {
   "cell_type": "code",
   "execution_count": null,
   "metadata": {
    "collapsed": false
   },
   "outputs": [],
   "source": []
  },
  {
   "cell_type": "code",
   "execution_count": null,
   "metadata": {
    "collapsed": true
   },
   "outputs": [],
   "source": []
  }
 ],
 "metadata": {
  "kernelspec": {
   "display_name": "Python [Root]",
   "language": "python",
   "name": "Python [Root]"
  },
  "language_info": {
   "codemirror_mode": {
    "name": "ipython",
    "version": 2
   },
   "file_extension": ".py",
   "mimetype": "text/x-python",
   "name": "python",
   "nbconvert_exporter": "python",
   "pygments_lexer": "ipython2",
   "version": "2.7.12"
  }
 },
 "nbformat": 4,
 "nbformat_minor": 0
}
